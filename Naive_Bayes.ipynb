{
  "nbformat": 4,
  "nbformat_minor": 0,
  "metadata": {
    "colab": {
      "name": "Naive_Bayes.ipynb",
      "provenance": [],
      "collapsed_sections": []
    },
    "kernelspec": {
      "name": "python3",
      "display_name": "Python 3"
    }
  },
  "cells": [
    {
      "cell_type": "markdown",
      "metadata": {
        "id": "mMQDohUyaCzP",
        "colab_type": "text"
      },
      "source": [
        "This Notebook demostrate the Naive Bayes algorithm using the make_classification data. Which can generate synthetic classification data for binary or multiclass classification. For more information\n",
        "\n",
        "https://scikit-learn.org/stable/modules/generated/sklearn.datasets.make_classification.html"
      ]
    },
    {
      "cell_type": "markdown",
      "metadata": {
        "id": "qDWkthewaNhw",
        "colab_type": "text"
      },
      "source": [
        "Importing necessary libraries"
      ]
    },
    {
      "cell_type": "code",
      "metadata": {
        "id": "ati2Vi4ZaX64",
        "colab_type": "code",
        "colab": {}
      },
      "source": [
        "from sklearn.datasets import make_classification\n",
        "from sklearn.model_selection import train_test_split\n",
        "from sklearn.metrics import roc_curve\n",
        "from sklearn.metrics import roc_auc_score\n",
        "from matplotlib import pyplot\n",
        "from sklearn.naive_bayes import GaussianNB"
      ],
      "execution_count": 0,
      "outputs": []
    },
    {
      "cell_type": "markdown",
      "metadata": {
        "id": "zekt9N6fajqv",
        "colab_type": "text"
      },
      "source": [
        "Getting data from datasets provided by Sklearn API (make_classification) for demonstrating classification problems."
      ]
    },
    {
      "cell_type": "code",
      "metadata": {
        "id": "mZNXmeI1axnk",
        "colab_type": "code",
        "colab": {}
      },
      "source": [
        "# generate 2 class dataset\n",
        "X, y = make_classification(n_samples=1000, n_classes=2, weights=[0.99,0.01], random_state=1)\n",
        "# split into train/test sets\n",
        "trainX, testX, trainy, testy = train_test_split(X, y, test_size=0.5, random_state=2)"
      ],
      "execution_count": 0,
      "outputs": []
    },
    {
      "cell_type": "markdown",
      "metadata": {
        "id": "EmKMdkL0bAXe",
        "colab_type": "text"
      },
      "source": [
        "Creating a Baseline model or No skill model and fitting the data to Naive bayes algorithm and plottting ROC curve for the both models."
      ]
    },
    {
      "cell_type": "markdown",
      "metadata": {
        "id": "dIbkLCDWbPSr",
        "colab_type": "text"
      },
      "source": [
        "The Receiver operating characteristic (ROC) curve is a graphical plot that illustrates the diagnostic ability of a binary classifier system as its discrimination threshold is varied. \n",
        "\n",
        "The ROC curve is created by plotting the true positive rate (TPR) against the false positive rate (FPR) at various threshold settings. The true-positive rate is also known as sensitivity, recall or probability of detection in machine learning. The false-positive rate is also known as the fall-out or probability of false alarm and can be calculated as (specificity)."
      ]
    },
    {
      "cell_type": "code",
      "metadata": {
        "id": "rcn63pyd6O3Y",
        "colab_type": "code",
        "outputId": "28ee38d1-2425-4513-ecab-3c5194506fcf",
        "colab": {
          "base_uri": "https://localhost:8080/",
          "height": 313
        }
      },
      "source": [
        "# generate a no skill prediction (majority class)\n",
        "ns_probs = [0 for _ in range(len(testy))]\n",
        "# fit a model\n",
        "model = GaussianNB()\n",
        "model.fit(trainX, trainy)\n",
        "# predict probabilities\n",
        "nb_probs = model.predict_proba(testX)\n",
        "# keep probabilities for the positive outcome only\n",
        "nb_probs = nb_probs[:, 1]\n",
        "# calculate scores\n",
        "ns_auc = roc_auc_score(testy, ns_probs)\n",
        "nb_auc = roc_auc_score(testy, nb_probs)\n",
        "# summarize scores\n",
        "print('No Skill: ROC AUC=%.3f' % (ns_auc))\n",
        "print('Naive Bayes: ROC AUC=%.3f' % (nb_auc))\n",
        "# calculate roc curves\n",
        "ns_fpr, ns_tpr, _ = roc_curve(testy, ns_probs)\n",
        "nb_fpr, nb_tpr, _ = roc_curve(testy, nb_probs)\n",
        "# plot the roc curve for the model\n",
        "pyplot.plot(ns_fpr, ns_tpr, linestyle='--', label='No Skill')\n",
        "pyplot.plot(nb_fpr, nb_tpr, marker='.', label='Naive_Bayes')\n",
        "# axis labels\n",
        "pyplot.xlabel('False Positive Rate')\n",
        "pyplot.ylabel('True Positive Rate')\n",
        "# show the legend\n",
        "pyplot.legend()\n",
        "# show the plot\n",
        "pyplot.show()"
      ],
      "execution_count": 0,
      "outputs": [
        {
          "output_type": "stream",
          "text": [
            "No Skill: ROC AUC=0.500\n",
            "Naive Bayes: ROC AUC=0.646\n"
          ],
          "name": "stdout"
        },
        {
          "output_type": "display_data",
          "data": {
            "image/png": "[encoded data removed]",
            "text/plain": [
              "<Figure size 432x288 with 1 Axes>"
            ]
          },
          "metadata": {
            "tags": []
          }
        }
      ]
    },
    {
      "cell_type": "markdown",
      "metadata": {
        "id": "PHBKZFz0cHqe",
        "colab_type": "text"
      },
      "source": [
        "The classification report calculates precison, Recall, F1 score. which are better model performance parameters than accuracy."
      ]
    },
    {
      "cell_type": "code",
      "metadata": {
        "id": "Ga_wS4IK-jGl",
        "colab_type": "code",
        "outputId": "b2a9f462-5534-4e31-feff-ca95aa882fca",
        "colab": {
          "base_uri": "https://localhost:8080/",
          "height": 187
        }
      },
      "source": [
        "y_pred = model.predict(testX)\n",
        "print(classification_report(testy, y_pred))\n",
        "# Model Accuracy, how often is the classifier correct?\n",
        "print(\"Accuracy: Naive Bayes\", accuracy_score(testy, y_pred))"
      ],
      "execution_count": 0,
      "outputs": [
        {
          "output_type": "stream",
          "text": [
            "              precision    recall  f1-score   support\n",
            "\n",
            "           0       0.98      1.00      0.99       489\n",
            "           1       0.00      0.00      0.00        11\n",
            "\n",
            "    accuracy                           0.98       500\n",
            "   macro avg       0.49      0.50      0.49       500\n",
            "weighted avg       0.96      0.98      0.97       500\n",
            "\n",
            "Accuracy: Naive Bayes 0.976\n"
          ],
          "name": "stdout"
        }
      ]
    },
    {
      "cell_type": "markdown",
      "metadata": {
        "id": "7odZpFINdO6g",
        "colab_type": "text"
      },
      "source": [
        "Conclusion:\n",
        "\n",
        "Model have a good true positive and true negative rate also model is good at predicting false positives and false negative as well."
      ]
    }
  ]
}