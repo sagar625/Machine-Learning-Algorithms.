{
  "nbformat": 4,
  "nbformat_minor": 0,
  "metadata": {
    "colab": {
      "name": "KFoldsCrossValidation.ipynb",
      "provenance": []
    },
    "kernelspec": {
      "name": "python3",
      "display_name": "Python 3"
    }
  },
  "cells": [
    {
      "cell_type": "markdown",
      "metadata": {
        "id": "7nb0rCZ9K1LK",
        "colab_type": "text"
      },
      "source": [
        "Demonstrating K folds cross validation using cross validation score and using Support vector machine on Iris dataset. We will use normal test and train methodology and then see cross vlaidation and compare the accuracy of the models."
      ]
    },
    {
      "cell_type": "code",
      "metadata": {
        "id": "SPdt5dD0nGzq",
        "colab_type": "code",
        "colab": {}
      },
      "source": [
        "#Importing all necessary libraries\n",
        "from sklearn.datasets import load_iris\n",
        "from sklearn import metrics\n",
        "from sklearn import svm\n",
        "import numpy as np\n",
        "import pandas as pd\n",
        "from sklearn.model_selection import train_test_split\n",
        "from sklearn import datasets\n",
        "from sklearn.model_selection import cross_val_score\n"
      ],
      "execution_count": 0,
      "outputs": []
    },
    {
      "cell_type": "code",
      "metadata": {
        "id": "xL8Rc7lOim-Q",
        "colab_type": "code",
        "colab": {}
      },
      "source": [
        "#loading data\n",
        "iris = datasets.load_iris()"
      ],
      "execution_count": 0,
      "outputs": []
    },
    {
      "cell_type": "markdown",
      "metadata": {
        "id": "tj5aVFYeLuX2",
        "colab_type": "text"
      },
      "source": [
        "Creating a SVM model without cross validation."
      ]
    },
    {
      "cell_type": "code",
      "metadata": {
        "id": "YgCIRGaJipaA",
        "colab_type": "code",
        "outputId": "48afb95f-f77b-4a11-e02e-e7961007caee",
        "colab": {
          "base_uri": "https://localhost:8080/",
          "height": 34
        }
      },
      "source": [
        "#Splitting the data and fitting SVM on the data\n",
        "X_train, X_test, y_train, y_test = train_test_split(iris.data, iris.target, test_size=0.4, random_state=0)\n",
        "\n",
        "X_train.shape, y_train.shape\n",
        "\n",
        "X_test.shape, y_test.shape\n",
        "\n",
        "clf = svm.SVC(kernel='linear', C=1).fit(X_train, y_train)\n",
        "\n",
        "clf.score(X_test, y_test)                           \n"
      ],
      "execution_count": 4,
      "outputs": [
        {
          "output_type": "execute_result",
          "data": {
            "text/plain": [
              "0.9666666666666667"
            ]
          },
          "metadata": {
            "tags": []
          },
          "execution_count": 4
        }
      ]
    },
    {
      "cell_type": "markdown",
      "metadata": {
        "id": "09_gXPF3LyoE",
        "colab_type": "text"
      },
      "source": [
        "Creating model with cross validation with 5 folds in training data"
      ]
    },
    {
      "cell_type": "code",
      "metadata": {
        "id": "dklLemS35p52",
        "colab_type": "code",
        "outputId": "1c5f7285-9137-49ff-dbf8-72a681603ab2",
        "colab": {
          "base_uri": "https://localhost:8080/",
          "height": 34
        }
      },
      "source": [
        "clf = svm.SVC(kernel='linear', C=1)\n",
        "scores = cross_val_score(clf, iris.data, iris.target, cv=5)\n",
        "print(\"Accuracy: %0.2f (+/- %0.2f)\" % (scores.mean(), scores.std() * 2))"
      ],
      "execution_count": 7,
      "outputs": [
        {
          "output_type": "stream",
          "text": [
            "Accuracy: 0.98 (+/- 0.03)\n"
          ],
          "name": "stdout"
        }
      ]
    },
    {
      "cell_type": "markdown",
      "metadata": {
        "id": "rdLS_lLTL_t3",
        "colab_type": "text"
      },
      "source": [
        "Adding the scoring in the cross value score, it is like a hyper parameter."
      ]
    },
    {
      "cell_type": "code",
      "metadata": {
        "id": "8GErL8L_6Lsh",
        "colab_type": "code",
        "outputId": "465b1959-b515-4453-d286-838b4eddf657",
        "colab": {
          "base_uri": "https://localhost:8080/",
          "height": 34
        }
      },
      "source": [
        "from sklearn import metrics\n",
        "scores = cross_val_score(clf, iris.data, iris.target, cv=5, scoring='f1_macro')\n",
        "scores.mean()                                              \n"
      ],
      "execution_count": 8,
      "outputs": [
        {
          "output_type": "execute_result",
          "data": {
            "text/plain": [
              "0.9799498746867169"
            ]
          },
          "metadata": {
            "tags": []
          },
          "execution_count": 8
        }
      ]
    },
    {
      "cell_type": "markdown",
      "metadata": {
        "id": "tEwR1p1IMJxl",
        "colab_type": "text"
      },
      "source": [
        "Using and trying various values of cross validation using shuffleSplit. "
      ]
    },
    {
      "cell_type": "code",
      "metadata": {
        "id": "2N-n5pT76dOK",
        "colab_type": "code",
        "outputId": "2ba73354-c7b9-4f55-b4f8-dc2d427f00c6",
        "colab": {
          "base_uri": "https://localhost:8080/",
          "height": 34
        }
      },
      "source": [
        "from sklearn.model_selection import ShuffleSplit\n",
        "n_samples = iris.data.shape[0]\n",
        "cv = ShuffleSplit(n_splits=5, test_size=0.3, random_state=0)\n",
        "cross_val_score(clf, iris.data, iris.target, cv=cv).mean()\n"
      ],
      "execution_count": 9,
      "outputs": [
        {
          "output_type": "execute_result",
          "data": {
            "text/plain": [
              "0.9822222222222223"
            ]
          },
          "metadata": {
            "tags": []
          },
          "execution_count": 9
        }
      ]
    },
    {
      "cell_type": "markdown",
      "metadata": {
        "id": "6IWxd1EAMal_",
        "colab_type": "text"
      },
      "source": [
        "Conclusion: We see that there is clear increase in the accuracy of the model by using Cross validation and other methods under it. In our case there is a change increase 2% in the accuracy."
      ]
    },
    {
      "cell_type": "code",
      "metadata": {
        "id": "s_qz4s-o7FNt",
        "colab_type": "code",
        "colab": {}
      },
      "source": [
        ""
      ],
      "execution_count": 0,
      "outputs": []
    }
  ]
}